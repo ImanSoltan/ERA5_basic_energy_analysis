{
 "cells": [
  {
   "cell_type": "markdown",
   "metadata": {},
   "source": [
    "# K-Means Clustering of ERA5 PV Weather Patterns\n"
   ]
  },
  {
   "cell_type": "code",
   "metadata": {},
   "source": [
    "import xarray as xr\n",
    "import pandas as pd\n",
    "import plotly.express as px\n",
    "from scripts.analysis import clustering\n",
    "ds = xr.open_dataset('data/processed/era5_processed_Bonn_2024_months_1-6.nc')\n",
    "df = ds.to_dataframe().reset_index()\n",
    "features = ['surface_solar_radiation_downwards_w_m2', '2m_temperature_c', '10m_wind_speed', 'total_cloud_cover']\n",
    "labels, centroids = clustering.cluster_weather_patterns(df, features, n_clusters=4)\n",
    "df['cluster'] = pd.Series(labels, index=df[features].dropna().index)\n"
   ]
  },
  {
   "cell_type": "markdown",
   "metadata": {},
   "source": [
    "## Cluster Profiles"
   ]
  },
  {
   "cell_type": "code",
   "metadata": {},
   "source": [
    "import plotly.graph_objects as go\n",
    "import numpy as np\n",
    "profile_df = pd.DataFrame(centroids, columns=features)\n",
    "fig = go.Figure()\n",
    "for i, row in profile_df.iterrows():\n",
    "    fig.add_trace(go.Bar(x=features, y=row, name=f'Cluster {i}'))\n",
    "fig.update_layout(barmode='group', title='Cluster Centroids (Profiles)')\n",
    "fig.show()\n"
   ]
  },
  {
   "cell_type": "markdown",
   "metadata": {},
   "source": [
    "## Visualize Clusters (Interactive Scatter Plot)"
   ]
  },
  {
   "cell_type": "code",
   "metadata": {},
   "source": [
    "fig = px.scatter(df, x='surface_solar_radiation_downwards_w_m2', y='2m_temperature_c', color='cluster', title='Clustered Weather Patterns', labels={'cluster': 'Cluster'}, hover_data=features)\n",
    "fig.show()\n"
   ]
  }
 ],
 "metadata": {
  "kernelspec": {
   "display_name": "Python 3",
   "language": "python",
   "name": "python3"
  },
  "language_info": {
   "name": "python",
   "version": "3.11.0"
  }
 },
 "nbformat": 4,
 "nbformat_minor": 2
} 