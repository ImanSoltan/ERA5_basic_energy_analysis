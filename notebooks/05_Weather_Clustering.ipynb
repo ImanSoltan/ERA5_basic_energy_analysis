{
 "cells": [
  {
   "cell_type": "markdown",
   "metadata": {},
   "source": [
    "# K-Means Clustering of ERA5 PV Weather Patterns\n"
   ]
  },
  {
   "cell_type": "code",
   "execution_count": null,
   "metadata": {},
   "outputs": [],
   "source": [
    "import xarray as xr\n",
    "import pandas as pd\n",
    "import numpy as np\n",
    "import plotly.express as px\n",
    "\n",
    "import sys\n",
    "import os\n",
    "\n",
    "\n",
    "# Add the project root to sys.path to allow imports from scripts/\n",
    "project_root = os.path.abspath(os.path.join(os.getcwd(), '..'))\n",
    "if project_root not in sys.path:\n",
    "    sys.path.insert(0, project_root)\n",
    "\n",
    "from scripts.analysis import anomaly_detection\n",
    "\n",
    "\n",
    "\n",
    "# Path to the merged NetCDF file\n",
    "merged_file = os.path.join(project_root, 'data', 'processed', 'era5_merged_Bonn.nc')\n",
    "\n",
    "# Load the merged dataset\n",
    "try:\n",
    "    ds = xr.open_dataset(merged_file)\n",
    "    print(f\"Successfully loaded merged dataset from {merged_file}\")\n",
    "    print(\"\\nDataset summary:\")\n",
    "    print(ds)\n",
    "except Exception as e:\n",
    "    print(f\"Error loading merged dataset: {e}\")\n",
    "    raise\n",
    "\n",
    "\n",
    "\n",
    "\n",
    "features = ['surface_solar_radiation_downwards_w_m2', '2m_temperature_c', '10m_wind_speed', 'total_cloud_cover']\n",
    "labels, centroids = clustering.cluster_weather_patterns(df, features, n_clusters=4)\n",
    "df['cluster'] = pd.Series(labels, index=df[features].dropna().index)\n"
   ]
  },
  {
   "cell_type": "markdown",
   "metadata": {},
   "source": [
    "## Cluster Profiles"
   ]
  },
  {
   "cell_type": "code",
   "execution_count": null,
   "metadata": {},
   "outputs": [],
   "source": [
    "import plotly.graph_objects as go\n",
    "import numpy as np\n",
    "profile_df = pd.DataFrame(centroids, columns=features)\n",
    "fig = go.Figure()\n",
    "for i, row in profile_df.iterrows():\n",
    "    fig.add_trace(go.Bar(x=features, y=row, name=f'Cluster {i}'))\n",
    "fig.update_layout(barmode='group', title='Cluster Centroids (Profiles)')\n",
    "fig.show()\n"
   ]
  },
  {
   "cell_type": "markdown",
   "metadata": {},
   "source": [
    "## Visualize Clusters (Interactive Scatter Plot)"
   ]
  },
  {
   "cell_type": "code",
   "execution_count": null,
   "metadata": {},
   "outputs": [],
   "source": [
    "fig = px.scatter(df, x='surface_solar_radiation_downwards_w_m2', y='2m_temperature_c', color='cluster', title='Clustered Weather Patterns', labels={'cluster': 'Cluster'}, hover_data=features)\n",
    "fig.show()\n"
   ]
  }
 ],
 "metadata": {
  "kernelspec": {
   "display_name": "Python 3",
   "language": "python",
   "name": "python3"
  },
  "language_info": {
   "name": "python",
   "version": "3.11.0"
  }
 },
 "nbformat": 4,
 "nbformat_minor": 2
}
