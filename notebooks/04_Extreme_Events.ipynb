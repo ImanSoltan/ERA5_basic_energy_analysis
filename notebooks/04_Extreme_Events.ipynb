{
 "cells": [
  {
   "cell_type": "markdown",
   "metadata": {},
   "source": [
    "# Extreme Event Analysis in ERA5 PV Variables\n"
   ]
  },
  {
   "cell_type": "code",
   "metadata": {},
   "source": [
    "import xarray as xr\n",
    "import pandas as pd\n",
    "import plotly.express as px\n",
    "from scripts.analysis import extreme_events\n",
    "ds = xr.open_dataset('data/processed/era5_processed_Bonn_2024_months_1-6.nc')\n",
    "df = ds.to_dataframe().reset_index()\n"
   ]
  },
  {
   "cell_type": "markdown",
   "metadata": {},
   "source": [
    "## Prolonged Low Irradiance Events"
   ]
  },
  {
   "cell_type": "code",
   "metadata": {},
   "source": [
    "events = extreme_events.find_prolonged_low_irradiance(df['surface_solar_radiation_downwards_w_m2'], threshold=50, min_duration=3)\n",
    "fig = px.line(df, x='time', y='surface_solar_radiation_downwards_w_m2', title='Prolonged Low Irradiance Events')\n",
    "for start, end in events:\n",
    "    fig.add_vrect(x0=df['time'][start], x1=df['time'][end], fillcolor='red', opacity=0.2, line_width=0)\n",
    "fig.show()\n"
   ]
  },
  {
   "cell_type": "markdown",
   "metadata": {},
   "source": [
    "## Heatwaves"
   ]
  },
  {
   "cell_type": "code",
   "metadata": {},
   "source": [
    "events = extreme_events.find_heatwaves(df['2m_temperature_c'], threshold=30, min_duration=3)\n",
    "fig = px.line(df, x='time', y='2m_temperature_c', title='Heatwaves')\n",
    "for start, end in events:\n",
    "    fig.add_vrect(x0=df['time'][start], x1=df['time'][end], fillcolor='orange', opacity=0.2, line_width=0)\n",
    "fig.show()\n"
   ]
  },
  {
   "cell_type": "markdown",
   "metadata": {},
   "source": [
    "## High Cloud Cover Events"
   ]
  },
  {
   "cell_type": "code",
   "metadata": {},
   "source": [
    "events = extreme_events.find_high_cloud_cover(df['total_cloud_cover'], threshold=0.8, min_duration=3)\n",
    "fig = px.line(df, x='time', y='total_cloud_cover', title='High Cloud Cover Events')\n",
    "for start, end in events:\n",
    "    fig.add_vrect(x0=df['time'][start], x1=df['time'][end], fillcolor='blue', opacity=0.2, line_width=0)\n",
    "fig.show()\n"
   ]
  }
 ],
 "metadata": {
  "kernelspec": {
   "display_name": "Python 3",
   "language": "python",
   "name": "python3"
  },
  "language_info": {
   "name": "python",
   "version": "3.11.0"
  }
 },
 "nbformat": 4,
 "nbformat_minor": 2
} 