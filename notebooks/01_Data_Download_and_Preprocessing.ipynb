 {
 "cells": [
  {
   "cell_type": "markdown",
   "metadata": {},
   "source": [
    "# ERA5 Data Download and Preprocessing\n",
    "\n",
    "This notebook allows you to trigger ERA5 data download and preprocessing using the project's helper functions."
   ]
  },
  {
   "cell_type": "markdown",
   "metadata": {},
   "source": [
    "## 1. Setup: Import and Path Configuration"
   ]
  },
  {
   "cell_type": "code",
   "metadata": {},
   "source": [
    "import sys\n",
    "import os\n",
    "# Add the project root to sys.path to allow imports from scripts/\n",
    "project_root = os.path.abspath(os.path.join(os.getcwd(), '..'))\n",
    "if project_root not in sys.path:\n",
    "    sys.path.insert(0, project_root)\n",
    "\n",
    "# Try importing download and (if available) preprocess helpers\n",
    "try:\n",
    "    from scripts.download import download_era5\n",
    "    print(\"Imported download_era5 from scripts.download\")\n",
    "except Exception as e:\n",
    "    print(f'Error importing download_era5: {e}')\n",
    "\n",
    "try:\n",
    "    from scripts.preprocess import preprocess_data\n",
    "    print(\"Imported preprocess_data from scripts.preprocess\")\n",
    "except Exception as e:\n",
    "    print(f'Preprocessing helper not yet available: {e}')"
   ],
   "execution_count": null,
   "outputs": []
  },
  {
   "cell_type": "markdown",
   "metadata": {},
   "source": [
    "## 2. Download ERA5 Data\n",
    "You can use the default settings or customize the parameters."
   ]
  },
  {
   "cell_type": "code",
   "metadata": {},
   "source": [
    "# Download with default settings\n",
    "try:\n",
    "    download_era5.download_era5_data()\n",
    "    print(\"Download with default parameters finished.\")\n",
    "except Exception as e:\n",
    "    print(f'Error during download: {e}')"
   ],
   "execution_count": null,
   "outputs": []
  },
  {
   "cell_type": "code",
   "metadata": {},
   "source": [
    "# Example: Download with custom parameters\n",
    "# Uncomment and modify as needed\n",
    "# custom_years = [2023]\n",
    "# custom_months = [1, 2, 3]\n",
    "# custom_area = [52.5, 13.0, 52.0, 13.5]  # Berlin\n",
    "# custom_variables = ['surface_solar_radiation_downwards', '2m_temperature']\n",
    "# try:\n",
    "#     download_era5.download_era5_data(years=custom_years, months=custom_months, area=custom_area, variables=custom_variables)\n",
    "#     print(\"Custom download finished.\")\n",
    "# except Exception as e:\n",
    "#     print(f'Error during custom download: {e}')"
   ],
   "execution_count": null,
   "outputs": []
  },
  {
   "cell_type": "markdown",
   "metadata": {},
   "source": [
    "## 3. Preprocess ERA5 Data\n",
    "Once the preprocessing helper is implemented, you can call it here."
   ]
  },
  {
   "cell_type": "code",
   "metadata": {},
   "source": [
    "# Example: Preprocess downloaded data\n",
    "# Uncomment and adjust once preprocess_data.py is implemented\n",
    "# try:\n",
    "#     preprocess_data.preprocess_era5_data(input_dir='data/raw', output_dir='data/processed')\n",
    "#     print(\"Preprocessing finished.\")\n",
    "# except Exception as e:\n",
    "#     print(f'Error during preprocessing: {e}')"
   ],
   "execution_count": null,
   "outputs": []
  }
 ],
 "metadata": {
  "kernelspec": {
   "display_name": "Python 3",
   "language": "python",
   "name": "python3"
  },
  "language_info": {
   "name": "python",
   "version": "3.11.0"
  }
 },
 "nbformat": 4,
 "nbformat_minor": 2
}