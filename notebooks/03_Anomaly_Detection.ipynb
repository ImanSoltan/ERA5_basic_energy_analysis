 {
 "cells": [
  {
   "cell_type": "markdown",
   "metadata": {},
   "source": [
    "# Anomaly Detection in ERA5 PV Variables\n"
   ]
  },
  {
   "cell_type": "code",
   "metadata": {},
   "source": [
    "import xarray as xr\n",
    "import pandas as pd\n",
    "import plotly.express as px\n",
    "from scripts.analysis import anomaly_detection\n",
    "ds = xr.open_dataset('data/processed/era5_processed_Bonn_2024_months_1-6.nc')\n",
    "df = ds.to_dataframe().reset_index()\n"
   ]
  },
  {
   "cell_type": "markdown",
   "metadata": {},
   "source": [
    "## Z-score Anomaly Detection (e.g., GHI)"
   ]
  },
  {
   "cell_type": "code",
   "metadata": {},
   "source": [
    "var = 'surface_solar_radiation_downwards_w_m2'\n",
    "anomalies = anomaly_detection.detect_zscore_anomalies(df[var])\n",
    "fig = px.line(df, x='time', y=var, title=f'Z-score Anomalies in {var}')\n",
    "fig.add_scatter(x=df['time'][anomalies], y=df[var][anomalies], mode='markers', marker=dict(color='red', size=6), name='Anomaly')\n",
    "fig.show()\n"
   ]
  },
  {
   "cell_type": "markdown",
   "metadata": {},
   "source": [
    "## IQR Anomaly Detection (e.g., Temperature)"
   ]
  },
  {
   "cell_type": "code",
   "metadata": {},
   "source": [
    "var = '2m_temperature_c'\n",
    "anomalies = anomaly_detection.detect_iqr_anomalies(df[var])\n",
    "fig = px.line(df, x='time', y=var, title=f'IQR Anomalies in {var}')\n",
    "fig.add_scatter(x=df['time'][anomalies], y=df[var][anomalies], mode='markers', marker=dict(color='red', size=6), name='Anomaly')\n",
    "fig.show()\n"
   ]
  },
  {
   "cell_type": "markdown",
   "metadata": {},
   "source": [
    "## STL Decomposition Anomaly Detection (e.g., Wind Speed)"
   ]
  },
  {
   "cell_type": "code",
   "metadata": {},
   "source": [
    "var = '10m_wind_speed'\n",
    "anomalies = anomaly_detection.detect_stl_anomalies(df[var], period=24)\n",
    "fig = px.line(df, x='time', y=var, title=f'STL Anomalies in {var}')\n",
    "fig.add_scatter(x=df['time'][anomalies], y=df[var][anomalies], mode='markers', marker=dict(color='red', size=6), name='Anomaly')\n",
    "fig.show()\n"
   ]
  }
 ],
 "metadata": {
  "kernelspec": {
   "display_name": "Python 3",
   "language": "python",
   "name": "python3"
  },
  "language_info": {
   "name": "python",
   "version": "3.11.0"
  }
 },
 "nbformat": 4,
 "nbformat_minor": 2
}