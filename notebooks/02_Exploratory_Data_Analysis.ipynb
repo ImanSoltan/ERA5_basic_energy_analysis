 {
 "cells": [
  {
   "cell_type": "markdown",
   "metadata": {},
   "source": [
    "# Exploratory Data Analysis (EDA) of Processed ERA5 Data\n",
    "\n",
    "This notebook explores the processed ERA5 data for Bonn, Germany (Jan-Jun 2024)."
   ]
  },
  {
   "cell_type": "markdown",
   "metadata": {},
   "source": [
    "## 1. Load Processed Data"
   ]
  },
  {
   "cell_type": "code",
   "metadata": {},
   "source": [
    "import xarray as xr\n",
    "import pandas as pd\n",
    "import numpy as np\n",
    "import plotly.express as px\n",
    "import plotly.graph_objects as go\n",
    "\n",
    "processed_path = 'data/processed/era5_processed_Bonn_2024_months_1-6.nc'\n",
    "ds = xr.open_dataset(processed_path)\n",
    "ds"
   ]
  },
  {
   "cell_type": "markdown",
   "metadata": {},
   "source": [
    "## 2. Summary Statistics and Missing Value Check"
   ]
  },
  {
   "cell_type": "code",
   "metadata": {},
   "source": [
    "# Convert to DataFrame for easier stats\n",
    "df = ds.to_dataframe().reset_index()\n",
    "# Show summary statistics for key variables\n",
    "key_vars = [\n",
    "    'surface_solar_radiation_downwards_w_m2',\n",
    "    '2m_temperature_c',\n",
    "    '10m_wind_speed',\n",
    "    'total_precipitation',\n",
    "    'total_cloud_cover'\n",
    "]\n",
    "df[key_vars].describe()"
   ]
  },
  {
   "cell_type": "code",
   "metadata": {},
   "source": [
    "# Check for missing values\n",
    "df[key_vars].isnull().sum()"
   ]
  },
  {
   "cell_type": "markdown",
   "metadata": {},
   "source": [
    "## 3. Interactive Time Series Plots (Plotly)"
   ]
  },
  {
   "cell_type": "code",
   "metadata": {},
   "source": [
    "for var in key_vars:\n",
    "    fig = px.line(df, x='time', y=var, title=f'Time Series of {var}')\n",
    "    fig.show()"
   ]
  },
  {
   "cell_type": "markdown",
   "metadata": {},
   "source": [
    "## 4. Interactive Histograms and Boxplots (Plotly)"
   ]
  },
  {
   "cell_type": "code",
   "metadata": {},
   "source": [
    "for var in key_vars:\n",
    "    fig = px.histogram(df, x=var, nbins=40, title=f'Histogram of {var}')\n",
    "    fig.show()\n",
    "    fig = px.box(df, y=var, title=f'Boxplot of {var}')\n",
    "    fig.show()"
   ]
  }
 ],
 "metadata": {
  "kernelspec": {
   "display_name": "Python 3",
   "language": "python",
   "name": "python3"
  },
  "language_info": {
   "name": "python",
   "version": "3.11.0"
  }
 },
 "nbformat": 4,
 "nbformat_minor": 2
}